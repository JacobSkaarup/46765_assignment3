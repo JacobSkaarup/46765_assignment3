{
 "cells": [
  {
   "cell_type": "markdown",
   "metadata": {},
   "source": [
    "Import price data to train and test on"
   ]
  },
  {
   "cell_type": "code",
   "execution_count": 133,
   "metadata": {},
   "outputs": [],
   "source": [
    "import pandas as pd\n",
    "\n",
    "prices = pd.read_excel('Price.xlsx')\n",
    "prices = prices.loc[prices['PriceArea'] == 'DK1']\n",
    "prices = prices['PriceDKK'].values\n",
    "\n",
    "# Temporarily limit the number of prices to 100\n",
    "prices = prices[:100]"
   ]
  },
  {
   "cell_type": "markdown",
   "metadata": {},
   "source": [
    "Define actions and states, and allowed actions in different states. Only depends on SOC"
   ]
  },
  {
   "cell_type": "code",
   "execution_count": null,
   "metadata": {},
   "outputs": [],
   "source": [
    "import numpy as np\n",
    "\n",
    "ACTIONS = [\"Charge\", \"Discharge\", \"Do nothing\"]\n",
    "PRICE_STATE = [\"Low\", \"Medium\", \"High\"]\n",
    "SOC_STATE = [\"0%\", \"20%\", \"40%\", \"60%\", \"80%\", \"100%\"]\n",
    "ALLOWED_ACTIONS = {\"0%\":   [\"Charge\", \"Do nothing\"],\n",
    "                   \"20%\":  [\"Charge\", \"Discharge\", \"Do nothing\"], \n",
    "                   \"40%\":  [\"Charge\", \"Discharge\", \"Do nothing\"],\n",
    "                   \"60%\":  [\"Charge\", \"Discharge\", \"Do nothing\"],\n",
    "                   \"80%\":  [\"Charge\", \"Discharge\", \"Do nothing\"],\n",
    "                   \"100%\": [\"Discharge\", \"Do nothing\"],}\n",
    "\n",
    "# Initialize the lookup-table\n",
    "P_ssa = np.empty((len(PRICE_STATE), len(SOC_STATE), len(ACTIONS)), dtype=object)"
   ]
  },
  {
   "cell_type": "markdown",
   "metadata": {},
   "source": [
    "Prepare and estimate probability of transitioning from one price state to another"
   ]
  },
  {
   "cell_type": "code",
   "execution_count": null,
   "metadata": {},
   "outputs": [],
   "source": [
    "# Split prices into three states\n",
    "low_price_threshold = np.percentile(prices, 33)\n",
    "high_price_threshold = np.percentile(prices, 66)\n",
    "\n",
    "# One-hot encoding of price states\n",
    "price_states = np.array([prices < low_price_threshold,\n",
    "                        (prices >= low_price_threshold) & (prices < high_price_threshold),\n",
    "                         prices >= high_price_threshold])\n",
    "price_states = price_states.astype(int)\n",
    "\n",
    "# Compute probability of being in a price state given the current price state.\n",
    "# Assumed independent of SOC state and action\n",
    "# price_prop = P(s'|s) -> price_prop[i,j] = P(s'=j|s=i)\n",
    "price_prop = (price_states @ np.roll(price_states,-1).T) / (price_states).sum(axis=1)\n"
   ]
  },
  {
   "cell_type": "markdown",
   "metadata": {},
   "source": [
    "Compute the transitioning matrix for each given state (price and SOC) and action. Limit allowed actions"
   ]
  },
  {
   "cell_type": "code",
   "execution_count": null,
   "metadata": {},
   "outputs": [],
   "source": [
    "for i, ps in enumerate(PRICE_STATE):\n",
    "    for j, ss in enumerate(SOC_STATE):\n",
    "        for k, ac in enumerate(ACTIONS):\n",
    "            # Given that we are in state ps, ss and take action ac\n",
    "            # what is the probability of transitioning to each state (ps', ss')\n",
    "            if ac in ALLOWED_ACTIONS[ss]:\n",
    "                if ac == \"Charge\":\n",
    "                    c = 1\n",
    "                elif ac == \"Discharge\":\n",
    "                    c = -1\n",
    "                else:\n",
    "                    c = 0\n",
    "                SOC_prop = np.zeros((len(SOC_STATE)))\n",
    "                SOC_prop[j+c] = 1\n",
    "                # state_trans = P(price'|price) * P(soc'|soc, action)\n",
    "                state_trans = price_prop[i,:].reshape(-1,1) @ SOC_prop.reshape(1,-1)\n",
    "                P_ssa[i,j,k] = state_trans\n",
    "            else:\n",
    "                P_ssa[i,j,k] = np.zeros((len(PRICE_STATE), len(SOC_STATE)))"
   ]
  }
 ],
 "metadata": {
  "kernelspec": {
   "display_name": "Python 3",
   "language": "python",
   "name": "python3"
  },
  "language_info": {
   "codemirror_mode": {
    "name": "ipython",
    "version": 3
   },
   "file_extension": ".py",
   "mimetype": "text/x-python",
   "name": "python",
   "nbconvert_exporter": "python",
   "pygments_lexer": "ipython3",
   "version": "3.12.7"
  }
 },
 "nbformat": 4,
 "nbformat_minor": 2
}
